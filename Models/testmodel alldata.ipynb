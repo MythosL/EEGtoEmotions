{
 "cells": [
  {
   "cell_type": "code",
   "execution_count": 22,
   "metadata": {},
   "outputs": [],
   "source": [
    "import numpy as np\n",
    "import pandas as pd\n",
    "from sklearn.model_selection import cross_val_score\n",
    "from sklearn.model_selection import cross_val_predict\n",
    "from sklearn.metrics import accuracy_score\n",
    "from sklearn.model_selection import StratifiedKFold\n",
    "from sklearn import preprocessing\n",
    "\n",
    "from sklearn.naive_bayes import GaussianNB\n",
    "from sklearn.neighbors import KNeighborsClassifier\n",
    "from sklearn.tree import DecisionTreeClassifier\n",
    "from sklearn.neural_network import MLPClassifier\n",
    "from xgboost import XGBClassifier\n",
    "import itertools"
   ]
  },
  {
   "cell_type": "code",
   "execution_count": 23,
   "metadata": {},
   "outputs": [],
   "source": [
    "\n",
    "\n",
    "accuracy = []\n",
    "dataseteeg = pd.read_csv(\"csvData/allparticipants.csv\",delimiter=' ',header=None)\n",
    "dataseteye = pd.read_csv(\"csvData/participant_all_eye.csv\",delimiter=' ',header=None)\n",
    "\n",
    "\n",
    "eegX = dataseteeg.iloc[:, :-1].values\n",
    "eyeX = dataseteye.iloc[:, :-1].values\n",
    "\n",
    "y = dataseteeg.iloc[:, -1].values\n",
    "\n",
    "X = []\n",
    "for i in range(len(eegX)):\n",
    "    X.append(list(itertools.chain(eegX[i], eyeX[i])))\n",
    "\n",
    "X = np.array(X)"
   ]
  },
  {
   "cell_type": "code",
   "execution_count": null,
   "metadata": {},
   "outputs": [],
   "source": [
    "print(X)"
   ]
  },
  {
   "cell_type": "code",
   "execution_count": null,
   "metadata": {},
   "outputs": [],
   "source": [
    "KNNmodelaccuracies = []\n",
    "n_splits = 3\n",
    "\n",
    "skf = StratifiedKFold(n_splits=n_splits, random_state=None)\n",
    "skf.get_n_splits(X, y)  \n",
    "\n",
    "for train_index, test_index in skf.split(X, y):\n",
    "    # print(\"TRAIN:\", train_index, \"TEST:\", test_index)\n",
    "    X1_train, X1_test = X[train_index], X[test_index]\n",
    "    y1_train, y1_test = y[train_index], y[test_index]\n",
    "    \n",
    "    scaler = preprocessing.MinMaxScaler()\n",
    "\n",
    "    train_eeg = X1_train[:, 0:310]\n",
    "    train_eye = X1_train[:, 310:343]\n",
    "\n",
    "    train_eeg = scaler.fit_transform(train_eeg)\n",
    "    train_eye = scaler.fit_transform(train_eye)\n",
    "\n",
    "    test_eeg = X1_test[:, 0:310]\n",
    "    test_eye = X1_test[:, 310:343]\n",
    "\n",
    "    test_eeg = scaler.fit_transform(test_eeg)\n",
    "    test_eye = scaler.fit_transform(test_eye)\n",
    "\n",
    "    train_data = []\n",
    "    test_data = []\n",
    "\n",
    "    for i in range(len(test_eeg)):\n",
    "        test_data.append(list(itertools.chain(test_eeg[i], test_eye[i])))\n",
    "    \n",
    "    for l in range(len(train_eeg)):\n",
    "        train_data.append(list(itertools.chain(train_eeg[l], train_eye[l])))\n",
    "    \n",
    "    train_data,test_data = np.array(train_data),np.array(test_data) \n",
    "    print(train_data)\n",
    "    \n",
    "    \n",
    "    clf = KNeighborsClassifier(n_neighbors = 10, metric = 'minkowski', p = 2)\n",
    "    clf.fit(train_data, y1_train)\n",
    "    prediction = clf.predict(test_data)\n",
    "    score = accuracy_score(prediction,y1_test)\n",
    "    accuracy.append(score)\n",
    "\n",
    "KNNmodelaccuracies.append(accuracy)\n",
    "accuracy = np.array(accuracy)\n",
    "print(\" %0.2f accuracy z standardno deviacijo %0.2f\" % (accuracy.mean(), accuracy.std()))"
   ]
  },
  {
   "cell_type": "code",
   "execution_count": null,
   "metadata": {},
   "outputs": [],
   "source": [
    "print(KNNmodelaccuracies)"
   ]
  },
  {
   "cell_type": "code",
   "execution_count": null,
   "metadata": {},
   "outputs": [],
   "source": [
    "\n",
    "NBmodelaccuracies = []\n",
    "n_splits = 3\n",
    "\n",
    "accuracy = []\n",
    "\n",
    "skf = StratifiedKFold(n_splits=n_splits, random_state=None)\n",
    "skf.get_n_splits(X, y)  \n",
    "\n",
    "for train_index, test_index in skf.split(X, y):\n",
    "    # print(\"TRAIN:\", train_index, \"TEST:\", test_index)\n",
    "    X1_train, X1_test = X[train_index], X[test_index]\n",
    "    y1_train, y1_test = y[train_index], y[test_index]\n",
    "    clf = GaussianNB()\n",
    "    clf.fit(X1_train, y1_train)\n",
    "    prediction = clf.predict(X1_test)\n",
    "    score = accuracy_score(prediction,y1_test)\n",
    "    accuracy.append(score)\n",
    "\n",
    "NBmodelaccuracies.append(accuracy)\n",
    "accuracy = np.array(accuracy)\n",
    "print(\"%0.2f accuracy z standardno deviacijo %0.2f\" % (accuracy.mean(), accuracy.std())) "
   ]
  },
  {
   "cell_type": "code",
   "execution_count": null,
   "metadata": {},
   "outputs": [],
   "source": [
    "print(NBmodelaccuracies)"
   ]
  },
  {
   "cell_type": "code",
   "execution_count": null,
   "metadata": {},
   "outputs": [],
   "source": [
    "Treemodelaccuracies = []\n",
    "n_splits = 3\n",
    "\n",
    "accuracy = []\n",
    "dataset = pd.read_csv(\"csvData/allparticipants.csv\",delimiter=' ', header=None)\n",
    "X = dataset.iloc[:, :-1].values\n",
    "y = dataset.iloc[:, -1].values\n",
    "\n",
    "skf = StratifiedKFold(n_splits=n_splits, random_state=None)\n",
    "skf.get_n_splits(X, y)\n",
    "\n",
    "for train_index, test_index in skf.split(X, y):\n",
    "    # print(\"TRAIN:\", train_index, \"TEST:\", test_index)\n",
    "    X1_train, X1_test = X[train_index], X[test_index]\n",
    "    y1_train, y1_test = y[train_index], y[test_index]\n",
    "    clf = DecisionTreeClassifier(criterion='entropy', random_state=0)\n",
    "    clf.fit(X1_train, y1_train)\n",
    "    prediction = clf.predict(X1_test)\n",
    "    score = accuracy_score(prediction, y1_test)\n",
    "    accuracy.append(score)\n",
    "\n",
    "Treemodelaccuracies.append(accuracy)\n",
    "accuracy = np.array(accuracy)\n",
    "print(\"%0.2f accuracy z standardno deviacijo %0.2f\" % (accuracy.mean(), accuracy.std()))\n"
   ]
  },
  {
   "cell_type": "code",
   "execution_count": null,
   "metadata": {},
   "outputs": [],
   "source": [
    "print(Treemodelaccuracies)"
   ]
  },
  {
   "cell_type": "code",
   "execution_count": null,
   "metadata": {},
   "outputs": [],
   "source": [
    "\n",
    "NNmodelaccuracies = []\n",
    "n_splits = 10\n",
    "\n",
    "accuracy = []\n",
    "dataset = pd.read_csv(\"csvData/allparticipants.csv\",delimiter=' ',header=None)\n",
    "X = dataset.iloc[:, :-1].values\n",
    "y = dataset.iloc[:, -1].values\n",
    "\n",
    "skf = StratifiedKFold(n_splits=n_splits, random_state=None)\n",
    "skf.get_n_splits(X, y)  \n",
    "\n",
    "for train_index, test_index in skf.split(X, y):\n",
    "    # print(\"TRAIN:\", train_index, \"TEST:\", test_index)\n",
    "    X1_train, X1_test = X[train_index], X[test_index]\n",
    "    y1_train, y1_test = y[train_index], y[test_index]\n",
    "    clf = MLPClassifier(activation=\"tanh\",solver=\"adam\",max_iter=1000,hidden_layer_sizes=(100,),random_state=1)\n",
    "    clf.fit(X1_train, y1_train)\n",
    "    prediction = clf.predict(X1_test)\n",
    "    score = accuracy_score(prediction,y1_test)\n",
    "    accuracy.append(score)\n",
    "\n",
    "NNmodelaccuracies.append(accuracy)\n",
    "accuracy = np.array(accuracy)\n",
    "print(\"%0.2f accuracy z standardno deviacijo %0.2f\" % (accuracy.mean(), accuracy.std()))     "
   ]
  },
  {
   "cell_type": "code",
   "execution_count": null,
   "metadata": {},
   "outputs": [],
   "source": [
    "\n",
    "XGmodelaccuracies = []\n",
    "n_splits = 10\n",
    "\n",
    "accuracy = []\n",
    "dataset = pd.read_csv(\"csvData/allparticipants.csv\",delimiter=' ',header=None)\n",
    "X = dataset.iloc[:, :-1].values\n",
    "y = dataset.iloc[:, -1].values\n",
    "\n",
    "skf = StratifiedKFold(n_splits=n_splits, random_state=None)\n",
    "skf.get_n_splits(X, y)  \n",
    "\n",
    "for train_index, test_index in skf.split(X, y):\n",
    "    # print(\"TRAIN:\", train_index, \"TEST:\", test_index)\n",
    "    X1_train, X1_test = X[train_index], X[test_index]\n",
    "    y1_train, y1_test = y[train_index], y[test_index]\n",
    "    clf = XGBClassifier()\n",
    "    clf.fit(X1_train, y1_train)\n",
    "    prediction = clf.predict(X1_test)\n",
    "    score = accuracy_score(prediction,y1_test)\n",
    "    accuracy.append(score)\n",
    "\n",
    "XGmodelaccuracies.append(accuracy)\n",
    "accuracy = np.array(accuracy)\n",
    "print(\"%0.2f accuracy z standardno deviacijo %0.2f\" % (accuracy.mean(), accuracy.std()))     "
   ]
  }
 ],
 "metadata": {
  "interpreter": {
   "hash": "2d5612326fdb5e13424e37144855c2378186d92746927955c608e46427f4ca19"
  },
  "kernelspec": {
   "display_name": "Python 3.10.1 64-bit",
   "language": "python",
   "name": "python3"
  },
  "language_info": {
   "codemirror_mode": {
    "name": "ipython",
    "version": 3
   },
   "file_extension": ".py",
   "mimetype": "text/x-python",
   "name": "python",
   "nbconvert_exporter": "python",
   "pygments_lexer": "ipython3",
   "version": "3.10.1"
  },
  "orig_nbformat": 4
 },
 "nbformat": 4,
 "nbformat_minor": 2
}
