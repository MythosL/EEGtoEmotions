{
 "cells": [
  {
   "cell_type": "code",
   "execution_count": 2,
   "metadata": {},
   "outputs": [],
   "source": [
    "import numpy as np\n",
    "import pandas as pd\n",
    "from sklearn.model_selection import cross_val_score\n",
    "from sklearn.model_selection import cross_val_predict\n",
    "from sklearn.metrics import accuracy_score\n",
    "from sklearn.model_selection import StratifiedKFold\n",
    "\n",
    "from sklearn.naive_bayes import GaussianNB\n",
    "from sklearn.neighbors import KNeighborsClassifier\n",
    "from sklearn.tree import DecisionTreeClassifier\n",
    "from sklearn.neural_network import MLPClassifier"
   ]
  },
  {
   "cell_type": "code",
   "execution_count": null,
   "metadata": {},
   "outputs": [],
   "source": [
    "KNNmodelaccuracies = []\n",
    "n_splits = 10\n",
    "\n",
    "for i in range(1,17):\n",
    "    accuracy = []\n",
    "    dataset = pd.read_csv(\"csvData/participant{}.csv\".format(i),delimiter=' ',header=None)\n",
    "    X = dataset.iloc[:, :-1].values\n",
    "    y = dataset.iloc[:, -1].values\n",
    "\n",
    "    skf = StratifiedKFold(n_splits=n_splits, random_state=None)\n",
    "    skf.get_n_splits(X, y)\n",
    "    \n",
    "\n",
    "    for train_index, test_index in skf.split(X, y):\n",
    "       # print(\"TRAIN:\", train_index, \"TEST:\", test_index)\n",
    "        X1_train, X1_test = X[train_index], X[test_index]\n",
    "        y1_train, y1_test = y[train_index], y[test_index]\n",
    "        clf = KNeighborsClassifier(n_neighbors = 10, metric = 'minkowski', p = 2)\n",
    "        clf.fit(X1_train, y1_train)\n",
    "        prediction = clf.predict(X1_test)\n",
    "        score = accuracy_score(prediction,y1_test)\n",
    "        accuracy.append(score)\n",
    "\n",
    "    KNNmodelaccuracies.append(accuracy)\n",
    "    accuracy = np.array(accuracy)\n",
    "    print(\"Udeleženec%0.0f %0.2f accuracy z standardno deviacijo %0.2f\" % (i,  accuracy.mean(), accuracy.std()))"
   ]
  },
  {
   "cell_type": "code",
   "execution_count": null,
   "metadata": {},
   "outputs": [],
   "source": [
    "for i in range(len(modelaccuracies)):\n",
    "    print()"
   ]
  },
  {
   "cell_type": "code",
   "execution_count": null,
   "metadata": {},
   "outputs": [],
   "source": [
    "NBmodelaccuracies = []\n",
    "n_splits = 10\n",
    "\n",
    "for i in range(1,17):\n",
    "    accuracy = []\n",
    "    dataset = pd.read_csv(\"csvData/participant{}.csv\".format(i),delimiter=' ',header=None)\n",
    "    X = dataset.iloc[:, :-1].values\n",
    "    y = dataset.iloc[:, -1].values\n",
    "\n",
    "    skf = StratifiedKFold(n_splits=n_splits, random_state=None)\n",
    "    skf.get_n_splits(X, y)\n",
    "    \n",
    "\n",
    "    for train_index, test_index in skf.split(X, y):\n",
    "       # print(\"TRAIN:\", train_index, \"TEST:\", test_index)\n",
    "        X1_train, X1_test = X[train_index], X[test_index]\n",
    "        y1_train, y1_test = y[train_index], y[test_index]\n",
    "        clf = GaussianNB()\n",
    "        clf.fit(X1_train, y1_train)\n",
    "        prediction = clf.predict(X1_test)\n",
    "        score = accuracy_score(prediction,y1_test)\n",
    "        accuracy.append(score)\n",
    "\n",
    "    NBmodelaccuracies.append(accuracy)\n",
    "    accuracy = np.array(accuracy)\n",
    "    print(\"Udeleženec%0.0f %0.2f accuracy z standardno deviacijo %0.2f\" % (i,  accuracy.mean(), accuracy.std()))"
   ]
  },
  {
   "cell_type": "code",
   "execution_count": null,
   "metadata": {},
   "outputs": [],
   "source": [
    "print(NBmodelaccuracies)"
   ]
  },
  {
   "cell_type": "code",
   "execution_count": null,
   "metadata": {},
   "outputs": [],
   "source": [
    "Treemodelaccuracies = []\n",
    "n_splits = 10\n",
    "\n",
    "for i in range(1,17):\n",
    "    accuracy = []\n",
    "    dataset = pd.read_csv(\"csvData/participant{}.csv\".format(i),delimiter=' ',header=None)\n",
    "    X = dataset.iloc[:, :-1].values\n",
    "    y = dataset.iloc[:, -1].values\n",
    "\n",
    "    skf = StratifiedKFold(n_splits=n_splits, random_state=None)\n",
    "    skf.get_n_splits(X, y)\n",
    "    \n",
    "\n",
    "    for train_index, test_index in skf.split(X, y):\n",
    "       # print(\"TRAIN:\", train_index, \"TEST:\", test_index)\n",
    "        X1_train, X1_test = X[train_index], X[test_index]\n",
    "        y1_train, y1_test = y[train_index], y[test_index]\n",
    "        clf = DecisionTreeClassifier(criterion = 'entropy', random_state = 0)\n",
    "        clf.fit(X1_train, y1_train)\n",
    "        prediction = clf.predict(X1_test)\n",
    "        score = accuracy_score(prediction,y1_test)\n",
    "        accuracy.append(score)\n",
    "\n",
    "    Treemodelaccuracies.append(accuracy)\n",
    "    accuracy = np.array(accuracy)\n",
    "    print(\"Udeleženec%0.0f %0.2f accuracy z standardno deviacijo %0.2f\" % (i,  accuracy.mean(), accuracy.std()))"
   ]
  },
  {
   "cell_type": "code",
   "execution_count": null,
   "metadata": {},
   "outputs": [],
   "source": [
    "print(Treemodelaccuracies)"
   ]
  },
  {
   "cell_type": "code",
   "execution_count": null,
   "metadata": {},
   "outputs": [],
   "source": [
    "NNmodelaccuracies = []\n",
    "n_splits = 10\n",
    "\n",
    "for i in range(1,17):\n",
    "    accuracy = []\n",
    "    dataset = pd.read_csv(\"csvData/participant{}.csv\".format(i),delimiter=' ',header=None)\n",
    "    X = dataset.iloc[:, :-1].values\n",
    "    y = dataset.iloc[:, -1].values\n",
    "\n",
    "    skf = StratifiedKFold(n_splits=n_splits, random_state=None)\n",
    "    skf.get_n_splits(X, y)\n",
    "\n",
    "    for train_index, test_index in skf.split(X, y):\n",
    "       # print(\"TRAIN:\", train_index, \"TEST:\", test_index)\n",
    "        X1_train, X1_test = X[train_index], X[test_index]\n",
    "        y1_train, y1_test = y[train_index], y[test_index]\n",
    "\n",
    "        clf = MLPClassifier(activation=\"tanh\",solver=\"adam\",max_iter=1000,hidden_layer_sizes=(100,),random_state=1)\n",
    "        clf.fit(X1_train, y1_train)\n",
    "        prediction = clf.predict(X1_test)\n",
    "        score = accuracy_score(prediction,y1_test)\n",
    "        accuracy.append(score)\n",
    "\n",
    "    NNmodelaccuracies.append(accuracy)\n",
    "    accuracy = np.array(accuracy)\n",
    "    print(\"Udeleženec%0.0f %0.2f accuracy z standardno deviacijo %0.2f\" % (i,  accuracy.mean(), accuracy.std()))"
   ]
  }
 ],
 "metadata": {
  "interpreter": {
   "hash": "2d5612326fdb5e13424e37144855c2378186d92746927955c608e46427f4ca19"
  },
  "kernelspec": {
   "display_name": "Python 3.10.1 64-bit",
   "language": "python",
   "name": "python3"
  },
  "language_info": {
   "codemirror_mode": {
    "name": "ipython",
    "version": 3
   },
   "file_extension": ".py",
   "mimetype": "text/x-python",
   "name": "python",
   "nbconvert_exporter": "python",
   "pygments_lexer": "ipython3",
   "version": "3.10.1"
  },
  "orig_nbformat": 4
 },
 "nbformat": 4,
 "nbformat_minor": 2
}
