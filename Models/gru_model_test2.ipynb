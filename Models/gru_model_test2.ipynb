{
  "cells": [
    {
      "attachments": {},
      "cell_type": "markdown",
      "metadata": {
        "id": "8d4ac441b1fc"
      },
      "source": [
        "## Setup"
      ]
    },
    {
      "cell_type": "code",
      "execution_count": null,
      "metadata": {
        "id": "0472bf67b2bf",
        "vscode": {
          "languageId": "python"
        }
      },
      "outputs": [],
      "source": [
        "import tensorflow as tf\n",
        "from tensorflow import keras\n",
        "from tensorflow.keras import layers\n",
        "import pandas as pd\n",
        "from sklearn.compose import ColumnTransformer\n",
        "from sklearn.preprocessing import OneHotEncoder\n",
        "import numpy as np\n",
        "from sklearn.metrics import confusion_matrix, classification_report\n",
        "import matplotlib.pyplot as plt\n",
        "import seaborn as sns\n",
        "from sklearn.model_selection import train_test_split\n",
        "import itertools\n",
        "from sklearn import preprocessing\n"
      ]
    },
    {
      "attachments": {},
      "cell_type": "markdown",
      "metadata": {
        "id": "9aavAKEj9g2I"
      },
      "source": []
    },
    {
      "cell_type": "code",
      "execution_count": null,
      "metadata": {
        "colab": {
          "base_uri": "https://localhost:8080/"
        },
        "id": "BpHn_W9EDC9p",
        "outputId": "90386d16-63be-4d2b-94a1-d98e4f81299d",
        "vscode": {
          "languageId": "python"
        }
      },
      "outputs": [],
      "source": [
        "from google.colab import drive\n",
        "drive.mount('/content/drive')"
      ]
    },
    {
      "cell_type": "code",
      "execution_count": null,
      "metadata": {
        "id": "Ll2PewTQm5c2",
        "vscode": {
          "languageId": "python"
        }
      },
      "outputs": [],
      "source": [
        "dataseteeg = pd.read_csv(\"/content/drive/MyDrive/Colab Notebooks/eeg model/vsirazenzadnji.csv\",delimiter=' ', header = None)\n",
        "firstfive = pd.read_csv(\"/content/drive/MyDrive/Colab Notebooks/eeg model/firstfive.csv\",delimiter=' ', header = None)\n",
        "#dataseteye = pd.read_csv(\"/content/drive/MyDrive/Colab Notebooks/eeg model/participant_all-1_eye.csv\",delimiter=' ',header=None)\n"
      ]
    },
    {
      "cell_type": "code",
      "execution_count": null,
      "metadata": {
        "colab": {
          "base_uri": "https://localhost:8080/"
        },
        "id": "EWMabEiChgFu",
        "outputId": "4377fa84-3851-4607-acfc-dce7dbc59a7c",
        "vscode": {
          "languageId": "python"
        }
      },
      "outputs": [],
      "source": [
        "X = dataseteeg.iloc[:, :-1].values\n",
        "Xfive = firstfive.iloc[:, :-1].values\n",
        "\n",
        "y = dataseteeg.iloc[:, -1].values\n",
        "yfive = firstfive.iloc[:, -1].values\n",
        "#Xeye_train = dataseteye.iloc[:, :-1].values\n",
        "print(len(X))\n",
        "print(len(y))\n",
        "\n",
        "for x in range(0):\n",
        "    X = np.concatenate((X,Xfive), axis=0)\n",
        "    y= np.concatenate((y,yfive), axis=0)\n",
        "\n",
        "print(len(X))\n",
        "print(len(y))\n",
        "\n",
        "scaler = preprocessing.StandardScaler ()\n",
        "\n",
        "\n",
        "#Xeye_train=scaler.fit_transform(Xeye_train)\n",
        "\n",
        "\n",
        "#X = []"
      ]
    },
    {
      "cell_type": "code",
      "execution_count": null,
      "metadata": {
        "id": "0KQMpAq01392",
        "vscode": {
          "languageId": "python"
        }
      },
      "outputs": [],
      "source": [
        "X_train, X_test, y_train, y_test = train_test_split(X, y, test_size=0.33, random_state=42)"
      ]
    },
    {
      "cell_type": "code",
      "execution_count": null,
      "metadata": {
        "id": "z3Z43Qva2-yE",
        "vscode": {
          "languageId": "python"
        }
      },
      "outputs": [],
      "source": [
        "X_train = scaler.fit_transform(X_train)\n",
        "X_test = scaler.fit_transform(X_test)"
      ]
    },
    {
      "cell_type": "code",
      "execution_count": null,
      "metadata": {
        "colab": {
          "base_uri": "https://localhost:8080/"
        },
        "id": "4UrLfCM6275w",
        "outputId": "1055a601-2a3b-4992-ebb7-cee4f792d52f",
        "vscode": {
          "languageId": "python"
        }
      },
      "outputs": [],
      "source": [
        "print(len(X[1]))\n",
        "print(len(y))"
      ]
    },
    {
      "cell_type": "code",
      "execution_count": null,
      "metadata": {
        "colab": {
          "base_uri": "https://localhost:8080/"
        },
        "id": "auiRzY67RWRK",
        "outputId": "56be3325-0237-4608-c83e-21527bd4d41f",
        "vscode": {
          "languageId": "python"
        }
      },
      "outputs": [],
      "source": [
        "index = pd.Index(y)\n",
        "index.value_counts()"
      ]
    },
    {
      "cell_type": "code",
      "execution_count": null,
      "metadata": {
        "colab": {
          "base_uri": "https://localhost:8080/"
        },
        "id": "f536515be229",
        "outputId": "16067522-2cb6-43e5-8682-50e4c31c9317",
        "vscode": {
          "languageId": "python"
        }
      },
      "outputs": [],
      "source": [
        "inputs = tf.keras.Input(shape=(X.shape[1],))\n",
        "\n",
        "l = tf.keras.layers.Dense(64,activation=\"relu\")(inputs)\n",
        "l = tf.keras.layers.Dense(64,activation=\"relu\")(l)\n",
        "l = tf.keras.layers.Dense(64,activation=\"relu\")(l)\n",
        "l = tf.keras.layers.Dense(64,activation=\"relu\")(l)\n",
        "#expand_dims = tf.expand_dims(inputs, axis=2)\n",
        "\n",
        "#gru = tf.keras.layers.GRU(256, return_sequences=True)(expand_dims)\n",
        "\n",
        "#flatten = tf.keras.layers.Flatten()(gru)\n",
        "\n",
        "outputs = tf.keras.layers.Dense(5, activation='softmax')(l)\n",
        "\n",
        "\n",
        "\n",
        "model = tf.keras.Model(inputs=inputs, outputs=outputs)\n",
        "print(model.summary())"
      ]
    },
    {
      "cell_type": "code",
      "execution_count": null,
      "metadata": {
        "id": "4V4eQGn2z1rX",
        "vscode": {
          "languageId": "python"
        }
      },
      "outputs": [],
      "source": []
    },
    {
      "cell_type": "code",
      "execution_count": null,
      "metadata": {
        "colab": {
          "base_uri": "https://localhost:8080/",
          "height": 533
        },
        "id": "X0DxHyQ_ABr3",
        "outputId": "8bbfddbe-f147-4efd-f541-9ea0b5c27722",
        "vscode": {
          "languageId": "python"
        }
      },
      "outputs": [],
      "source": [
        "dot_img_file = \"/content/drive/MyDrive/Colab Notebooks/eeg model/model.png\"\n",
        "tf.keras.utils.plot_model(model, to_file=dot_img_file, show_shapes=True)"
      ]
    },
    {
      "cell_type": "code",
      "execution_count": null,
      "metadata": {
        "colab": {
          "base_uri": "https://localhost:8080/"
        },
        "id": "JLqYtzWfjitq",
        "outputId": "79d67cc8-860c-4a13-f42c-9848ebe26008",
        "vscode": {
          "languageId": "python"
        }
      },
      "outputs": [],
      "source": [
        "model.compile(\n",
        "    optimizer='adam',\n",
        "    loss='sparse_categorical_crossentropy',\n",
        "    metrics=['accuracy']\n",
        ")\n",
        "\n",
        "history = model.fit(\n",
        "    X_train,\n",
        "    y_train,\n",
        "    validation_split=0.2,\n",
        "    batch_size=64,\n",
        "    epochs=50,\n",
        "    callbacks=[\n",
        "        tf.keras.callbacks.EarlyStopping(\n",
        "            monitor='val_loss',\n",
        "            patience=5,\n",
        "            restore_best_weights=True\n",
        "        )\n",
        "    ]\n",
        ")"
      ]
    },
    {
      "cell_type": "code",
      "execution_count": null,
      "metadata": {
        "id": "kykycf5c2sxm",
        "vscode": {
          "languageId": "python"
        }
      },
      "outputs": [],
      "source": []
    },
    {
      "cell_type": "code",
      "execution_count": null,
      "metadata": {
        "colab": {
          "base_uri": "https://localhost:8080/",
          "height": 573
        },
        "id": "SRvTG0dsMMSm",
        "outputId": "ae6de163-619b-4552-8a68-70b93f8c9f03",
        "vscode": {
          "languageId": "python"
        }
      },
      "outputs": [],
      "source": [
        "plt.plot(history.history['accuracy'])\n",
        "plt.plot(history.history['val_accuracy'])\n",
        "plt.title('model accuracy')\n",
        "plt.ylabel('accuracy')\n",
        "plt.xlabel('epoch')\n",
        "plt.legend(['train', 'val'], loc='upper left')\n",
        "plt.show()\n",
        "\n",
        "plt.plot(history.history['loss'])\n",
        "plt.plot(history.history['val_loss'])\n",
        "plt.title('model loss')\n",
        "plt.ylabel('loss')\n",
        "plt.xlabel('epoch')\n",
        "plt.legend(['train', 'val'], loc='upper left')\n",
        "plt.show()"
      ]
    },
    {
      "attachments": {},
      "cell_type": "markdown",
      "metadata": {
        "id": "-RnmwP5-k9pZ"
      },
      "source": [
        "# Rezultat"
      ]
    },
    {
      "cell_type": "code",
      "execution_count": null,
      "metadata": {
        "id": "KmmyEABwfssS",
        "vscode": {
          "languageId": "python"
        }
      },
      "outputs": [],
      "source": [
        "testseteeg = pd.read_csv(\"/content/drive/MyDrive/Colab Notebooks/eeg model/participant_zadnji_otheremotions.csv\",delimiter=' ',header=None)\n",
        "\n",
        "X_test= testseteeg.iloc[:,:-1].values\n",
        "y_test= testseteeg.iloc[:,-1].values"
      ]
    },
    {
      "cell_type": "code",
      "execution_count": null,
      "metadata": {
        "id": "Fq7sgqpqCkuV",
        "vscode": {
          "languageId": "python"
        }
      },
      "outputs": [],
      "source": [
        "X_test = scaler.fit_transform(X_test)\n"
      ]
    },
    {
      "cell_type": "code",
      "execution_count": null,
      "metadata": {
        "colab": {
          "base_uri": "https://localhost:8080/"
        },
        "id": "iSqINQt_H71o",
        "outputId": "fdcdbd62-90a1-4ab9-a306-73e2f3e30c69",
        "vscode": {
          "languageId": "python"
        }
      },
      "outputs": [],
      "source": [
        "model_acc = model.evaluate(X_test, y_test, verbose =0)[1]\n",
        "print(\"Natančnost modela: {:.3f}%\".format(model_acc*100))"
      ]
    },
    {
      "cell_type": "code",
      "execution_count": null,
      "metadata": {
        "colab": {
          "base_uri": "https://localhost:8080/"
        },
        "id": "0D5ZXa8Eg9I5",
        "outputId": "c7e4f536-b00f-4e1c-bbe6-087c4026adb9",
        "vscode": {
          "languageId": "python"
        }
      },
      "outputs": [],
      "source": [
        "testseteeg1 = pd.read_csv(\"/content/drive/MyDrive/Colab Notebooks/eeg model/zadnji.csv\",delimiter=' ',header=None)\n",
        "\n",
        "X_test1= testseteeg1.iloc[:,:-1].values\n",
        "y_test1= testseteeg1.iloc[:,-1].values\n",
        "\n",
        "X_test1 = scaler.fit_transform(X_test1)\n",
        "model_acc = model.evaluate(X_test1, y_test1, verbose =0)[1]\n",
        "print(\"Natančnost modela: {:.3f}%\".format(model_acc*100))"
      ]
    },
    {
      "cell_type": "code",
      "execution_count": null,
      "metadata": {
        "id": "IYSKoze3DTdt",
        "vscode": {
          "languageId": "python"
        }
      },
      "outputs": [],
      "source": [
        "y_pred = np.array(list(map(lambda x: np.argmax(x) , model.predict(X_test))))\n",
        "label_dict = {\"Gnus\":0, \"strah\":1, \"žalost\":2 , \"nevtralno\":3, \"veselje\":4}\n",
        "cm = confusion_matrix(y_test,y_pred)\n",
        "clr = classification_report(y_test, y_pred, target_names=label_dict.keys())"
      ]
    },
    {
      "cell_type": "code",
      "execution_count": null,
      "metadata": {
        "colab": {
          "base_uri": "https://localhost:8080/",
          "height": 530
        },
        "id": "GzgDAw1gDP7m",
        "outputId": "e64e8d31-da30-4410-d913-3c82a7dc00e4",
        "vscode": {
          "languageId": "python"
        }
      },
      "outputs": [],
      "source": [
        "plt.figure(figsize= (8,8))\n",
        "sns.heatmap(cm, annot= True, fmt=\"g\",cbar =False, cmap = \"Blues\")\n",
        "plt.xticks(np.arange(5)+0.5, label_dict.keys())\n",
        "plt.yticks(np.arange(5)+0.5, label_dict.keys())\n",
        "plt.xlabel(\"napovedano\")\n",
        "plt.ylabel(\"pravilno\")\n",
        "plt.title(\"tabela napačnih klasifikacij\")\n",
        "plt.show()\n",
        "\n",
        "print()"
      ]
    },
    {
      "cell_type": "code",
      "execution_count": null,
      "metadata": {
        "id": "ak2RFTJOGwfH",
        "vscode": {
          "languageId": "python"
        }
      },
      "outputs": [],
      "source": [
        "plot_confusion_matrix(clf, X_test, y_test)  "
      ]
    },
    {
      "cell_type": "code",
      "execution_count": null,
      "metadata": {
        "colab": {
          "base_uri": "https://localhost:8080/"
        },
        "id": "Gx-XdA50IAy3",
        "outputId": "707d5337-85c9-44ef-e322-12234b7c04b3",
        "vscode": {
          "languageId": "python"
        }
      },
      "outputs": [],
      "source": []
    },
    {
      "cell_type": "code",
      "execution_count": null,
      "metadata": {
        "colab": {
          "base_uri": "https://localhost:8080/",
          "height": 531
        },
        "id": "Wy29-SDmMzyf",
        "outputId": "c09b0961-437c-42c3-aed0-d8f149f909de",
        "vscode": {
          "languageId": "python"
        }
      },
      "outputs": [],
      "source": [
        "plt.figure(figsize= (8,8))\n",
        "sns.heatmap(cm, annot= True, fmt=\"g\",cbar =False, cmap = \"Blues\")\n",
        "plt.xticks(np.arange(5)+0.5, label_dict.keys())\n",
        "plt.yticks(np.arange(5)+0.5, label_dict.keys())\n",
        "plt.xlabel(\"napovedano\")\n",
        "plt.ylabel(\"dejansko\")\n",
        "plt.title(\"tabela napačnih klasifikacij\")\n",
        "plt.show()\n",
        "\n",
        "print()"
      ]
    }
  ],
  "metadata": {
    "accelerator": "GPU",
    "colab": {
      "provenance": []
    },
    "kernelspec": {
      "display_name": "Python 3",
      "name": "python3"
    }
  },
  "nbformat": 4,
  "nbformat_minor": 0
}
